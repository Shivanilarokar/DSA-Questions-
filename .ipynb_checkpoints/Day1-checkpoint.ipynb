{
 "cells": [
  {
   "cell_type": "markdown",
   "metadata": {},
   "source": []
  },
  {
   "cell_type": "markdown",
   "metadata": {},
   "source": [
    "Day 1\n",
    "Question 1: Sort Tuples by Sum of Elements\n",
    "You are given a list of tuples, where each tuple contains exactly two integers. Write a function that sorts this list in ascending order based on the sum of the integers in each tuple and returns the sorted list.\n",
    "\n",
    "Function Signature\n",
    "def sort_by_tuple_sum (lst: list[tuple]) -> list[tuple]:\n",
    "\n",
    "pass\n",
    "\n",
    "Test Cases:\n",
    "\n",
    "Input: [(3, 1), (2, 2), (5, -1), (0, 0)]\n",
    "\n",
    "Output: [(0, 0), (3, 1), (2, 2), (5, -1)]\n",
    "\n",
    "Input: [(7, 3), (1, 2), (4, 5), (0, 1)]\n",
    "\n",
    "Output: [(0, 1), (1, 2), (4, 5), (7, 3)]\n",
    "\n",
    "Input: [(8, -3), (1, 1), (2, 0), (5, 5), (3, 2)]\n",
    "\n",
    "Output: [(1, 1), (2, 0), (8, -3), (3, 2), (5, 5)]"
   ]
  },
  {
   "cell_type": "code",
   "execution_count": 33,
   "metadata": {
    "vscode": {
     "languageId": "plaintext"
    }
   },
   "outputs": [
    {
     "name": "stdout",
     "output_type": "stream",
     "text": [
      "[(0, 0), (3, 1), (2, 2), (5, -1)]\n",
      "[(0, 1), (1, 2), (4, 5), (7, 3)]\n",
      "[(1, 1), (2, 0), (8, -3), (3, 2), (5, 5)]\n"
     ]
    }
   ],
   "source": [
    "#  using in-built function\n",
    "def sort_by_tuple_sum(lst: list[tuple]) -> list[tuple]:\n",
    "    sorted_list=sorted(lst ,key = lambda x:x[0]+x[1])\n",
    "    return sorted_list\n",
    "\n",
    "print((sort_by_tuple_sum([(3, 1), (2, 2), (5, -1), (0, 0)])))\n",
    "print((sort_by_tuple_sum([(7, 3), (1, 2), (4, 5), (0, 1)])))\n",
    "print((sort_by_tuple_sum([(8, -3), (1, 1), (2, 0), (5, 5), (3, 2)])))\n",
    "\n",
    "\n",
    "\n"
   ]
  },
  {
   "cell_type": "code",
   "execution_count": 35,
   "metadata": {},
   "outputs": [
    {
     "name": "stdout",
     "output_type": "stream",
     "text": [
      "[(0, 0), (3, 1), (2, 2), (5, -1)]\n",
      "[(0, 1), (1, 2), (4, 5), (7, 3)]\n",
      "[(1, 1), (2, 0), (8, -3), (3, 2), (5, 5)]\n"
     ]
    }
   ],
   "source": [
    "#  Using bubble sort algirthm \n",
    "def sort_by_tuple_sum(lst: list[tuple]) -> list[tuple]:\n",
    "    n = len(lst)\n",
    "    for i in range(n):\n",
    "        for j in range(0, n - i - 1):\n",
    "            if (lst[j][0] + lst[j][1]) > (lst[j + 1][0] + lst[j + 1][1]):\n",
    "                lst[j], lst[j + 1] = lst[j + 1], lst[j]  # Swap\n",
    "    return lst\n",
    "print((sort_by_tuple_sum([(3, 1), (2, 2), (5, -1), (0, 0)])))\n",
    "print((sort_by_tuple_sum([(7, 3), (1, 2), (4, 5), (0, 1)])))\n",
    "print((sort_by_tuple_sum([(8, -3), (1, 1), (2, 0), (5, 5), (3, 2)])))\n",
    "\n",
    "\n"
   ]
  },
  {
   "cell_type": "code",
   "execution_count": 39,
   "metadata": {},
   "outputs": [
    {
     "name": "stdout",
     "output_type": "stream",
     "text": [
      "[(0, 0), (3, 1), (2, 2), (5, -1)]\n",
      "[(0, 1), (1, 2), (4, 5), (7, 3)]\n",
      "[(1, 1), (2, 0), (8, -3), (3, 2), (5, 5)]\n"
     ]
    }
   ],
   "source": [
    "def sort_by_tuple_sum(lst):\n",
    "    # total length of the elements in the list \n",
    "    n = len(lst)\n",
    "\n",
    "    # outer loop till the length of the list \n",
    "    for i in range(n):\n",
    "\n",
    "        # inner loop where it takes the elements for comparision corresponding to the outer loop\n",
    "        for j in range(0, n-i-1):\n",
    "\n",
    "            # take the some of the first element in the inner loop\n",
    "            sum1 = lst[j][0] + lst[j][1]\n",
    "            # take the sum of the second element in the inner loop\n",
    "            sum2 = lst[j+1][0] + lst[j+1][1]\n",
    "\n",
    "            # Swap if the first sum is greater \n",
    "            if sum1 > sum2:  \n",
    "                lst[j], lst[j+1] = lst[j+1], lst[j]\n",
    "    \n",
    "    return lst\n",
    "print((sort_by_tuple_sum([(3, 1), (2, 2), (5, -1), (0, 0)])))\n",
    "print((sort_by_tuple_sum([(7, 3), (1, 2), (4, 5), (0, 1)])))\n",
    "print((sort_by_tuple_sum([(8, -3), (1, 1), (2, 0), (5, 5), (3, 2)])))"
   ]
  },
  {
   "cell_type": "code",
   "execution_count": null,
   "metadata": {},
   "outputs": [],
   "source": []
  },
  {
   "cell_type": "markdown",
   "metadata": {},
   "source": [
    "Day 1\n",
    "Question 2: Filter Strings Based on Criteria\n",
    "You are given a list of strings and two integers k and m. Write a function that returns a new list containing only those strings that satisfy both of the following conditions:\n",
    "\n",
    "The length of the string is greater than or equal to k.\n",
    "The string contains at least m vowels (vowels are 'a', 'e', i', 'o', 'u').\n",
    "The output should maintain the original order of appearance in the input list.\n",
    "\n",
    "Function Input\n",
    "\n",
    "• A list Ist of n strings.\n",
    "• An integer k representing the minimum length of strings to include.\n",
    "• An integer m representing the minimum number of vowels a string should have to be included.\n",
    "Test Cases :\n",
    "\n",
    "Input: [\"apple\", \"hi\", \"world\", \"yes\", \"python\"], k=4, m = 2\n",
    "\n",
    "Output: [\"'apple\"]\n",
    "\n",
    "Input: [\"education\", \"science\", \"art\", \"mathematics\"], k = 5, m = 3\n",
    "\n",
    "Output: [\"education\", \"science\", \"mathematics\"]\n",
    "\n"
   ]
  },
  {
   "cell_type": "code",
   "execution_count": null,
   "metadata": {},
   "outputs": [],
   "source": []
  }
 ],
 "metadata": {
  "kernelspec": {
   "display_name": "Python [conda env:base] *",
   "language": "python",
   "name": "conda-base-py"
  },
  "language_info": {
   "codemirror_mode": {
    "name": "ipython",
    "version": 3
   },
   "file_extension": ".py",
   "mimetype": "text/x-python",
   "name": "python",
   "nbconvert_exporter": "python",
   "pygments_lexer": "ipython3",
   "version": "3.12.7"
  },
  "panel-cell-order": [
   "8d86b33f"
  ]
 },
 "nbformat": 4,
 "nbformat_minor": 4
}
