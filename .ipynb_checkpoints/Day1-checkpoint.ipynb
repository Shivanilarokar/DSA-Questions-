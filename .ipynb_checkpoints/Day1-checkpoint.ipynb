{
 "cells": [
  {
   "cell_type": "markdown",
   "metadata": {},
   "source": []
  },
  {
   "cell_type": "raw",
   "metadata": {},
   "source": [
    "Day 1\n",
    "Question 1: Sort Tuples by Sum of Elements\n",
    "You are given a list of tuples, where each tuple contains exactly two integers. Write a function that sorts this list in ascending order based on the sum of the integers in each tuple and returns the sorted list.\n",
    "\n",
    "Function Signature\n",
    "def sort_by_tuple_sum (lst: list[tuple]) -> list[tuple]:\n",
    "\n",
    "pass\n",
    "\n",
    "Test Cases:\n",
    "\n",
    "Input: [(3, 1), (2, 2), (5, -1), (0, 0)]\n",
    "\n",
    "Output: [(0, 0), (3, 1), (2, 2), (5, -1)]\n",
    "\n",
    "Input: [(7, 3), (1, 2), (4, 5), (0, 1)]\n",
    "\n",
    "Output: [(0, 1), (1, 2), (4, 5), (7, 3)]\n",
    "\n",
    "Input: [(8, -3), (1, 1), (2, 0), (5, 5), (3, 2)]\n",
    "\n",
    "Output: [(1, 1), (2, 0), (8, -3), (3, 2), (5, 5)]"
   ]
  },
  {
   "cell_type": "code",
   "execution_count": 29,
   "metadata": {
    "vscode": {
     "languageId": "plaintext"
    }
   },
   "outputs": [
    {
     "name": "stdout",
     "output_type": "stream",
     "text": [
      "[(0, 0), (3, 1), (2, 2), (5, -1)]\n"
     ]
    }
   ],
   "source": [
    "def sort_by_tuple_sum(lst: list[tuple]) -> list[tuple]:\n",
    "    sorted_list=sorted(lst ,key = lambda x:x[0]+x[1])\n",
    "    return sorted_list\n",
    "\n",
    "print((sort_by_tuple_sum([(3, 1), (2, 2), (5, -1), (0, 0)])))\n",
    "\n",
    "\n"
   ]
  },
  {
   "cell_type": "code",
   "execution_count": 31,
   "metadata": {},
   "outputs": [
    {
     "name": "stdout",
     "output_type": "stream",
     "text": [
      "[(0, 0), (3, 1), (2, 2), (5, -1)]\n"
     ]
    }
   ],
   "source": [
    "def sort_by_tuple_sum(lst: list[tuple]) -> list[tuple]:\n",
    "    n = len(lst)\n",
    "    for i in range(n):\n",
    "        for j in range(0, n - i - 1):\n",
    "            if (lst[j][0] + lst[j][1]) > (lst[j + 1][0] + lst[j + 1][1]):\n",
    "                lst[j], lst[j + 1] = lst[j + 1], lst[j]  # Swap\n",
    "    return lst\n",
    "print((sort_by_tuple_sum([(3, 1), (2, 2), (5, -1), (0, 0)])))\n",
    "\n"
   ]
  },
  {
   "cell_type": "code",
   "execution_count": null,
   "metadata": {},
   "outputs": [],
   "source": []
  },
  {
   "cell_type": "code",
   "execution_count": null,
   "metadata": {},
   "outputs": [],
   "source": []
  },
  {
   "cell_type": "code",
   "execution_count": null,
   "metadata": {},
   "outputs": [],
   "source": []
  }
 ],
 "metadata": {
  "kernelspec": {
   "display_name": "Python [conda env:base] *",
   "language": "python",
   "name": "conda-base-py"
  },
  "language_info": {
   "codemirror_mode": {
    "name": "ipython",
    "version": 3
   },
   "file_extension": ".py",
   "mimetype": "text/x-python",
   "name": "python",
   "nbconvert_exporter": "python",
   "pygments_lexer": "ipython3",
   "version": "3.12.7"
  },
  "panel-cell-order": [
   "8d86b33f"
  ]
 },
 "nbformat": 4,
 "nbformat_minor": 4
}
